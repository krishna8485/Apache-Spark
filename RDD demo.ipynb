{
 "cells": [
  {
   "cell_type": "code",
   "execution_count": 1,
   "metadata": {},
   "outputs": [
    {
     "data": {
      "text/html": [
       "\n",
       "        <div>\n",
       "            <p><b>SparkContext</b></p>\n",
       "\n",
       "            <p><a href=\"http://quickstart.cloudera:4040\">Spark UI</a></p>\n",
       "\n",
       "            <dl>\n",
       "              <dt>Version</dt>\n",
       "                <dd><code>v2.3.0</code></dd>\n",
       "              <dt>Master</dt>\n",
       "                <dd><code>local[*]</code></dd>\n",
       "              <dt>AppName</dt>\n",
       "                <dd><code>PySparkShell</code></dd>\n",
       "            </dl>\n",
       "        </div>\n",
       "        "
      ],
      "text/plain": [
       "<SparkContext master=local[*] appName=PySparkShell>"
      ]
     },
     "execution_count": 1,
     "metadata": {},
     "output_type": "execute_result"
    }
   ],
   "source": [
    "sc"
   ]
  },
  {
   "cell_type": "code",
   "execution_count": 14,
   "metadata": {},
   "outputs": [],
   "source": [
    "stocks = sc.textFile(\"/user/cloudera/stocks\")\n"
   ]
  },
  {
   "cell_type": "code",
   "execution_count": 15,
   "metadata": {},
   "outputs": [
    {
     "data": {
      "text/plain": [
       "pyspark.rdd.RDD"
      ]
     },
     "execution_count": 15,
     "metadata": {},
     "output_type": "execute_result"
    }
   ],
   "source": [
    "type(stocks)\n"
   ]
  },
  {
   "cell_type": "code",
   "execution_count": 16,
   "metadata": {},
   "outputs": [
    {
     "data": {
      "text/plain": [
       "1857093"
      ]
     },
     "execution_count": 16,
     "metadata": {},
     "output_type": "execute_result"
    }
   ],
   "source": [
    "stocks.count()"
   ]
  },
  {
   "cell_type": "code",
   "execution_count": 17,
   "metadata": {},
   "outputs": [
    {
     "data": {
      "text/plain": [
       "['date,open,high,low,close,volume,adjclose,symbol',\n",
       " '2000-07-17,95.4375,97.5,92.75,96.625,3508100.0,74.269199,XLNX',\n",
       " '2000-07-17,22.625,22.75,22.4375,22.5625,201600.0,13.48614,ES',\n",
       " '2000-07-17,6.750002,6.937503,6.375,6.5,1235700.0,5.241649,CHK',\n",
       " '2000-07-17,19.812501,20.1875,19.500001,20.1875,1434100.0,3.806147,NI',\n",
       " '2000-07-17,30.5,30.6875,30.0,30.03125,254600.0,19.81183,SNA',\n",
       " '2000-07-17,44.749996,45.062498,44.500004,45.000009,535200.0,17.400773,FOXA',\n",
       " '2000-07-17,19.625,19.625,19.25,19.375,309500.0,13.768835,R',\n",
       " '2000-07-17,16.6562,16.6875,16.125,16.25,5507200.0,1.755466,ROST',\n",
       " '2000-07-17,56.25,57.25,56.0625,56.125,7941200.0,18.31076,PG',\n",
       " '2000-07-17,54.000326,54.000326,52.500318,53.375325,3725000.0,71.068871,TYC',\n",
       " '2000-07-17,58.75,58.875,57.8125,58.0,182700.0,37.544123,XL',\n",
       " '2000-07-17,47.500132,47.500132,45.750135,46.343886,4898700.0,17.662922,F',\n",
       " '2000-07-17,84.0,84.5,82.625,82.671883,2861800.0,23.88973,CVX',\n",
       " '2000-07-17,22.5,22.75,22.375,22.75,423600.0,5.942444,PPL',\n",
       " '2000-07-17,37.4375,37.5625,36.5625,37.4375,738800.0,24.832407,TRV',\n",
       " '2000-07-17,76.874999,80.937504,76.249993,78.250003,6166200.0,50.37851,A',\n",
       " '2000-07-17,26.5,26.6875,26.3125,26.5,335200.0,6.240835,LNT',\n",
       " '2000-07-17,23.9375,24.0625,23.5,23.9375,648400.0,23.9375,AZO',\n",
       " '2000-07-17,60.875,60.9375,60.25,60.531239,1464800.0,22.017028,UTX']"
      ]
     },
     "execution_count": 17,
     "metadata": {},
     "output_type": "execute_result"
    }
   ],
   "source": [
    "stocks.take(20)"
   ]
  },
  {
   "cell_type": "markdown",
   "metadata": {},
   "source": [
    "Find average volume for each stock in 2016"
   ]
  },
  {
   "cell_type": "code",
   "execution_count": 13,
   "metadata": {},
   "outputs": [
    {
     "data": {
      "text/plain": [
       "/user/cloudera/ MapPartitionsRDD[4] at textFile at NativeMethodAccessorImpl.java:0"
      ]
     },
     "execution_count": 13,
     "metadata": {},
     "output_type": "execute_result"
    }
   ],
   "source": [
    "stocks.cache()"
   ]
  },
  {
   "cell_type": "code",
   "execution_count": 9,
   "metadata": {},
   "outputs": [
    {
     "data": {
      "text/plain": [
       "1857093"
      ]
     },
     "execution_count": 9,
     "metadata": {},
     "output_type": "execute_result"
    }
   ],
   "source": [
    "stocks.count()"
   ]
  },
  {
   "cell_type": "code",
   "execution_count": 10,
   "metadata": {},
   "outputs": [
    {
     "data": {
      "text/plain": [
       "['2016-01-04,46.119999,46.130001,45.360001,45.799999,3472200.0,44.870315,XLNX',\n",
       " '2016-01-04,50.650002,50.889999,50.23,50.880001,1590300.0,50.053021,ES',\n",
       " '2016-01-04,4.44,4.97,4.4,4.95,3.84761E7,4.95,CHK',\n",
       " '2016-01-04,19.41,19.66,19.309999,19.52,2592700.0,19.121168,NI',\n",
       " '2016-01-04,168.789993,169.5,166.5,168.529999,413800.0,167.208406,SNA',\n",
       " '2016-01-04,86.279999,87.269997,85.550003,87.18,2657300.0,85.403348,LYB',\n",
       " '2016-01-04,17.559999,17.639999,17.379999,17.620001,5887800.0,17.325726,WU',\n",
       " '2016-01-04,26.719999,26.76,26.299999,26.59,1.19141E7,26.446528,FOXA',\n",
       " '2016-01-04,67.029999,69.269997,64.639999,68.769997,4249800.0,67.626307,WYNN',\n",
       " '2016-01-04,55.950001,57.200001,55.25,56.900002,1119900.0,56.144751,R']"
      ]
     },
     "execution_count": 10,
     "metadata": {},
     "output_type": "execute_result"
    }
   ],
   "source": [
    "stocks.filter(lambda line: line.startswith(\"2016\")).take(10)"
   ]
  },
  {
   "cell_type": "code",
   "execution_count": 19,
   "metadata": {},
   "outputs": [
    {
     "data": {
      "text/plain": [
       "[('XLNX', 2872973.717948718),\n",
       " ('ES', 1773660.8974358975),\n",
       " ('CHK', 41622735.256410256),\n",
       " ('SNA', 526532.0512820513),\n",
       " ('FOXA', 10670923.076923076),\n",
       " ('WYNN', 3534673.717948718),\n",
       " ('R', 857647.4358974359),\n",
       " ('ROST', 2928259.6153846155),\n",
       " ('TYC', 3505778.846153846),\n",
       " ('XL', 2471258.9743589745)]"
      ]
     },
     "execution_count": 19,
     "metadata": {},
     "output_type": "execute_result"
    }
   ],
   "source": [
    "(stocks\n",
    " .filter(lambda line: line.startswith(\"2016\"))\n",
    " .map(lambda line: line.split(\",\"))\n",
    " .map(lambda tokens: (tokens[7], float(tokens[5])))\n",
    " .groupByKey()\n",
    " .mapValues(lambda values: sum(values)/ len(values))\n",
    " .take(10))\n",
    "\n"
   ]
  },
  {
   "cell_type": "code",
   "execution_count": 12,
   "metadata": {},
   "outputs": [
    {
     "data": {
      "text/plain": [
       "12"
      ]
     },
     "execution_count": 12,
     "metadata": {},
     "output_type": "execute_result"
    }
   ],
   "source": [
    "sum([3, 4, 5])"
   ]
  },
  {
   "cell_type": "code",
   "execution_count": null,
   "metadata": {},
   "outputs": [],
   "source": []
  }
 ],
 "metadata": {
  "kernelspec": {
   "display_name": "Python 3",
   "language": "python",
   "name": "python3"
  },
  "language_info": {
   "codemirror_mode": {
    "name": "ipython",
    "version": 3
   },
   "file_extension": ".py",
   "mimetype": "text/x-python",
   "name": "python",
   "nbconvert_exporter": "python",
   "pygments_lexer": "ipython3",
   "version": "3.6.4"
  }
 },
 "nbformat": 4,
 "nbformat_minor": 2
}
